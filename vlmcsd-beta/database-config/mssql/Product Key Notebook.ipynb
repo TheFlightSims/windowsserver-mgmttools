{
    "metadata": {
        "kernelspec": {
            "name": "SQL",
            "display_name": "SQL",
            "language": "sql"
        },
        "language_info": {
            "name": "sql",
            "version": ""
        }
    },
    "nbformat_minor": 2,
    "nbformat": 4,
    "cells": [
        {
            "cell_type": "markdown",
            "source": [
                "# **Introduce Product Key Database Notebook**\n",
                "\n",
                "This notebook guides you on managing **Product Key Database** on **Microsoft SQL Server**.\n",
                "\n",
                "Publish and manage by TheFlightSims on [**GitHub**](https://github.com/TheFlightSims/windowsserver-mgmttools).\n",
                "\n",
                "With this notebook, you can:\n",
                "\n",
                "> <span style=\"--z-index-notebook-progress-bar: 5; --z-index-notebook-list-insertion-indicator: 10; --z-index-notebook-cell-editor-outline: 20; --z-index-notebook-scrollbar: 25; --z-index-notebook-cell-status: 26; --z-index-notebook-cell-drag-handle: 26; --z-index-notebook-folding-indicator: 26; --z-index-notebook-output: 27; --z-index-notebook-cell-bottom-toolbar-container: 28; --z-index-notebook-run-button-container: 29; --z-index-notebook-input-collapse-condicon: 29; --z-index-notebook-cell-output-toolbar: 30; --z-index-notebook-cell-toolbar: 36; background-color: rgba(127, 127, 127, 0.1);\"><i>1. Read &amp; Query Product Key Database</i></span>\n",
                "> \n",
                "> <span style=\"--z-index-notebook-progress-bar: 5; --z-index-notebook-list-insertion-indicator: 10; --z-index-notebook-cell-editor-outline: 20; --z-index-notebook-scrollbar: 25; --z-index-notebook-cell-status: 26; --z-index-notebook-cell-drag-handle: 26; --z-index-notebook-folding-indicator: 26; --z-index-notebook-output: 27; --z-index-notebook-cell-bottom-toolbar-container: 28; --z-index-notebook-run-button-container: 29; --z-index-notebook-input-collapse-condicon: 29; --z-index-notebook-cell-output-toolbar: 30; --z-index-notebook-cell-toolbar: 36; background-color: rgba(127, 127, 127, 0.1);\"><i>2. Modify tables in the Database</i></span>\n",
                "> \n",
                "> <span style=\"--z-index-notebook-progress-bar: 5; --z-index-notebook-list-insertion-indicator: 10; --z-index-notebook-cell-editor-outline: 20; --z-index-notebook-scrollbar: 25; --z-index-notebook-cell-status: 26; --z-index-notebook-cell-drag-handle: 26; --z-index-notebook-folding-indicator: 26; --z-index-notebook-output: 27; --z-index-notebook-cell-bottom-toolbar-container: 28; --z-index-notebook-run-button-container: 29; --z-index-notebook-input-collapse-condicon: 29; --z-index-notebook-cell-output-toolbar: 30; --z-index-notebook-cell-toolbar: 36; background-color: rgba(127, 127, 127, 0.1);\"><i>3. Guide you from the basic to advanced in managing data</i></span>\n",
                "\n",
                "**Prerequisites to use this notebook:**\n",
                "\n",
                "> _1\\. Installed Microsoft SQL Server 2016 or later on any server_\n",
                "> \n",
                "> _2\\. Installed Azure Data Studio with Notebook for SQL kernel_\n",
                "> \n",
                "> _3\\. Restored the [PDKDB database](https://github.com/TheFlightSims/windowsserver-mgmttools/blob/master/vlmcsd-beta/database-config/mssql/PDKDB.bak) into the destination SQL Server. Make sure that the restored database can be modified._"
            ],
            "metadata": {
                "azdata_cell_guid": "416a08cf-e69f-4cde-b615-474226b0390f"
            },
            "attachments": {}
        },
        {
            "cell_type": "markdown",
            "source": [
                "<span style=\"font-size: 14px;\">Use database </span> **PDKDB** <span style=\"font-size: 14px;\">to let the&nbsp;</span> **SQL query** <span style=\"font-size: 14px;\">address the</span> **execution**<span style=\"font-size: 14px;\">.&nbsp;</span> \n",
                "\n",
                "**Try sample 1 to see the result!**"
            ],
            "metadata": {
                "azdata_cell_guid": "a8ade982-d54f-44a0-94c2-555fe1f748c4"
            },
            "attachments": {}
        },
        {
            "cell_type": "code",
            "source": [
                "--Sample 1\r\n",
                "\r\n",
                "USE [pdkdb];\r\n",
                "GO"
            ],
            "metadata": {
                "azdata_cell_guid": "e54967ca-4aa2-451a-80f7-3454f96a9b9d",
                "language": "sql",
                "tags": []
            },
            "outputs": [],
            "execution_count": null
        },
        {
            "cell_type": "markdown",
            "source": [
                "**Select any row** in the table to get the **list** of the **product keys** and **their configurations,** **_AND_** **order** it by the letter **A-Z**, following the column **ProductDescription.** \n",
                "\n",
                "<span style=\"color: var(--vscode-foreground);\">Note that the notebook can only </span> **select the top 5000 rows**<span style=\"color: var(--vscode-foreground);\">.</span>"
            ],
            "metadata": {
                "azdata_cell_guid": "c8734244-0a38-40e4-8129-91283780ebfb",
                "language": ""
            },
            "attachments": {}
        },
        {
            "cell_type": "code",
            "source": [
                "--Sample 2. Selecting the View dbo.FullProductKeyDetail for this example.\r\n",
                "\r\n",
                "SELECT * \r\n",
                "\tFROM [pdkdb].[dbo].[FullProductKeyDetail]\r\n",
                "    ORDER BY ProductDescription;"
            ],
            "metadata": {
                "azdata_cell_guid": "5bfa2752-cb47-4ef8-8238-9923118011e4",
                "language": "sql",
                "tags": []
            },
            "outputs": [],
            "execution_count": null
        },
        {
            "cell_type": "markdown",
            "source": [
                "**Select any row** in the with the by the **_conditions_**, by using **WHERE**"
            ],
            "metadata": {
                "azdata_cell_guid": "49a53a0a-1d38-4ea0-95d8-34b85b08b452"
            },
            "attachments": {}
        },
        {
            "cell_type": "code",
            "source": [
                "--Sample 3\r\n",
                "\r\n",
                "SELECT * \r\n",
                "\tFROM [pdkdb].[dbo].[FullProductKeyDetail]\r\n",
                "    WHERE ProductDescription LIKE '%Windows 10%'\r\n",
                "    ORDER BY ProductDescription;"
            ],
            "metadata": {
                "azdata_cell_guid": "bdb141d6-b7c3-465f-88d8-962f1016faea",
                "language": "sql",
                "tags": []
            },
            "outputs": [],
            "execution_count": null
        },
        {
            "cell_type": "markdown",
            "source": [
                "**Count** the number of **product keys** for **each product** and sort them by count (from **largest to smallest**)"
            ],
            "metadata": {
                "azdata_cell_guid": "510a9638-e6d0-4e28-b2ae-8c2129a45a2b",
                "language": ""
            },
            "attachments": {}
        },
        {
            "cell_type": "code",
            "source": [
                "--Sample 4\r\n",
                "\r\n",
                "SELECT *\r\n",
                "\tFROM [pdkdb].[dbo].[CountProductKeys]\r\n",
                "\tORDER BY 'Number of product keys';"
            ],
            "metadata": {
                "azdata_cell_guid": "f73777af-98a5-487d-b9cd-9f0a7af32517",
                "language": "sql",
                "tags": []
            },
            "outputs": [],
            "execution_count": null
        },
        {
            "cell_type": "markdown",
            "source": [
                "**Choose** a **specific number of keys** for **each product.**"
            ],
            "metadata": {
                "azdata_cell_guid": "779eaf9c-753c-41f9-9e55-6c1d7782ece5"
            },
            "attachments": {}
        },
        {
            "cell_type": "code",
            "source": [
                "--Sample 5\r\n",
                " \r\n",
                "SELECT *\r\n",
                "    FROM [pdkdb].[dbo].[SelectAnyPerProduct]\r\n",
                "    ORDER BY ProductDescription;"
            ],
            "metadata": {
                "azdata_cell_guid": "bd6ea36e-f242-407a-a30b-31880454d3f9",
                "language": "sql",
                "tags": []
            },
            "outputs": [],
            "execution_count": null
        }
    ]
}