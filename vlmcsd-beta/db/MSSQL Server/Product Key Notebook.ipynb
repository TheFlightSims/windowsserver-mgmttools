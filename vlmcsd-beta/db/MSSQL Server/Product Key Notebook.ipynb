{
    "metadata": {
        "kernelspec": {
            "name": "SQL",
            "display_name": "SQL",
            "language": "sql"
        },
        "language_info": {
            "name": "sql",
            "version": ""
        }
    },
    "nbformat_minor": 2,
    "nbformat": 4,
    "cells": [
        {
            "cell_type": "markdown",
            "source": [
                "# **Introduce Product Key Database Notebook**\n",
                "\n",
                "This notebook guides you on managing **Product Key Database** for **Microsoft SQL Server 2022** by **TheFlightSims**.\n",
                "\n",
                "Publish and manage by TheFlightSims on [**GitHub**](https://github.com/TheFlightSims/windowsserver-mgmttools).\n",
                "\n",
                "With this notebook, you can:\n",
                "\n",
                "> <span style=\"--z-index-notebook-progress-bar: 5; --z-index-notebook-list-insertion-indicator: 10; --z-index-notebook-cell-editor-outline: 20; --z-index-notebook-scrollbar: 25; --z-index-notebook-cell-status: 26; --z-index-notebook-cell-drag-handle: 26; --z-index-notebook-folding-indicator: 26; --z-index-notebook-output: 27; --z-index-notebook-cell-bottom-toolbar-container: 28; --z-index-notebook-run-button-container: 29; --z-index-notebook-input-collapse-condicon: 29; --z-index-notebook-cell-output-toolbar: 30; --z-index-notebook-cell-toolbar: 36; background-color: rgba(127, 127, 127, 0.1);\"><i>1. Read &amp; Query Product Key Database</i></span>\n",
                "> \n",
                "> <span style=\"--z-index-notebook-progress-bar: 5; --z-index-notebook-list-insertion-indicator: 10; --z-index-notebook-cell-editor-outline: 20; --z-index-notebook-scrollbar: 25; --z-index-notebook-cell-status: 26; --z-index-notebook-cell-drag-handle: 26; --z-index-notebook-folding-indicator: 26; --z-index-notebook-output: 27; --z-index-notebook-cell-bottom-toolbar-container: 28; --z-index-notebook-run-button-container: 29; --z-index-notebook-input-collapse-condicon: 29; --z-index-notebook-cell-output-toolbar: 30; --z-index-notebook-cell-toolbar: 36; background-color: rgba(127, 127, 127, 0.1);\"><i>2. Modify tables in the Database</i></span>\n",
                "> \n",
                "> <span style=\"--z-index-notebook-progress-bar: 5; --z-index-notebook-list-insertion-indicator: 10; --z-index-notebook-cell-editor-outline: 20; --z-index-notebook-scrollbar: 25; --z-index-notebook-cell-status: 26; --z-index-notebook-cell-drag-handle: 26; --z-index-notebook-folding-indicator: 26; --z-index-notebook-output: 27; --z-index-notebook-cell-bottom-toolbar-container: 28; --z-index-notebook-run-button-container: 29; --z-index-notebook-input-collapse-condicon: 29; --z-index-notebook-cell-output-toolbar: 30; --z-index-notebook-cell-toolbar: 36; background-color: rgba(127, 127, 127, 0.1);\"><i>3. Guide you from the basic to advanced in managing data</i></span>\n",
                "\n",
                "**Prerequisites to use this notebook:**\n",
                "\n",
                "> _1\\. Installed Microsoft SQL Server 2022 on any server_\n",
                "> \n",
                "> _2\\. Installed Azure Data Studio with Notebook for SQL kernel_\n",
                "> \n",
                "> _3\\. Restored the PDKDB database into the destination SQL Server. Make sure that the restored database can be modified._"
            ],
            "metadata": {
                "azdata_cell_guid": "416a08cf-e69f-4cde-b615-474226b0390f"
            },
            "attachments": {}
        },
        {
            "cell_type": "markdown",
            "source": [
                "<span style=\"font-size: 14px;\">Use database </span> **PDKDB** <span style=\"font-size: 14px;\">to let the&nbsp;</span> **SQL query** <span style=\"font-size: 14px;\">address the</span> **execution**<span style=\"font-size: 14px;\">.&nbsp;</span> \n",
                "\n",
                "**Try sample 1 to see the result!**"
            ],
            "metadata": {
                "azdata_cell_guid": "a8ade982-d54f-44a0-94c2-555fe1f748c4"
            },
            "attachments": {}
        },
        {
            "cell_type": "code",
            "source": [
                "--Sample 1\r\n",
                "\r\n",
                "USE [PDKDB];\r\n",
                "GO"
            ],
            "metadata": {
                "azdata_cell_guid": "e54967ca-4aa2-451a-80f7-3454f96a9b9d",
                "language": "sql",
                "tags": []
            },
            "outputs": [],
            "execution_count": null
        },
        {
            "cell_type": "markdown",
            "source": [
                "**Select any row** in the table to get the **list** of the **product keys** and **their configurations,** **_AND_** **order** it by the letter **A-Z**, following the column **ProductDescription.** Note that the notebook can only **select the top 5000 rows**.\n",
                "\n",
                "**_Note 1:_** The code executes from table \\[PDKDB\\].\\[dbo\\].\\[WindowsClients\\] in the sample below. If you want to select another table, **replace** \\[PDKDB\\].\\[dbo\\].\\[WindowsClients\\] with one of the databases:\n",
                "\n",
                "- \\[PDKDB\\].\\[dbo\\].\\[MSOffice\\]\n",
                "- \\[PDKDB\\].\\[dbo\\].\\[OtherMS\\]\n",
                "- \\[PDKDB\\].\\[dbo\\].\\[WindowsServers\\]\n",
                "\n",
                "**Note 2:** The code executes to **sort by** letter **A-Z**, **following** the column **ProductDescription.** If you want to **reverse** the sorting, add **DESC at the end**.\n",
                "\n",
                "**Try sample 2 to see the result!**"
            ],
            "metadata": {
                "azdata_cell_guid": "c8734244-0a38-40e4-8129-91283780ebfb",
                "language": ""
            },
            "attachments": {}
        },
        {
            "cell_type": "code",
            "source": [
                "--Sample 2\r\n",
                "\r\n",
                "SELECT * \r\n",
                "\tFROM [PDKDB].[dbo].[WindowsClients]\r\n",
                "    ORDER BY ProductDescription;"
            ],
            "metadata": {
                "azdata_cell_guid": "5bfa2752-cb47-4ef8-8238-9923118011e4",
                "language": "sql",
                "tags": []
            },
            "outputs": [],
            "execution_count": null
        },
        {
            "cell_type": "markdown",
            "source": [
                "**Select any row** in the table **containing \"Win 10\"** (meaning that the specified key **can be used on Windows 10**) using the **WHERE** statement **_AND_** order it by letter **A-Z** in column **ProductDescription**. Note that the notebook can only **select the top 5000 rows**.\n",
                "\n",
                "**_Note 1:_** To **select** other **product keys** that are compatible with **other products**, **replace** '%Win 10%' **with** the product **name contains,** e.g.\n",
                "\n",
                "- '%Office%' selects all Office products, including all versions and editions.\n",
                "- '%Win 8%' selects for all Windows 8 products, including Windows 8 Pro and Windows 8 Home.\n",
                "\n",
                "In **sample 3**, select any **Windows 10** product keys. **Try sample 3 to see the result!**\n",
                "\n",
                "**_Note 2:_**\n",
                "\n",
                "To **select two or more** product types, you can use **operators** like **'AND', 'OR.'** \n",
                "\n",
                "In **sample 4**, select any **Windows 10 Professional edition** product key with the **AND** operator. **Try sample 4 to see the result!**\n",
                "\n",
                "In **sample 5**, you can use the **OR** operator to **select** any product key for **Windows 10 or 8.1**. **Try sample 5 to see the result!**"
            ],
            "metadata": {
                "azdata_cell_guid": "49a53a0a-1d38-4ea0-95d8-34b85b08b452"
            },
            "attachments": {}
        },
        {
            "cell_type": "code",
            "source": [
                "--Sample 3\r\n",
                "\r\n",
                "SELECT * \r\n",
                "\tFROM [PDKDB].[dbo].[WindowsClients]\r\n",
                "    WHERE ProductDescription LIKE '%Win 10%'\r\n",
                "    ORDER BY ProductDescription;"
            ],
            "metadata": {
                "azdata_cell_guid": "bdb141d6-b7c3-465f-88d8-962f1016faea",
                "language": "sql",
                "tags": []
            },
            "outputs": [],
            "execution_count": null
        },
        {
            "cell_type": "code",
            "source": [
                "--Sample 4\r\n",
                "\r\n",
                "SELECT * \r\n",
                "\tFROM [PDKDB].[dbo].[WindowsClients]\r\n",
                "    WHERE ProductDescription LIKE '%Win 10%' AND EditionID = 'Professional'\r\n",
                "    ORDER BY ProductDescription;"
            ],
            "metadata": {
                "azdata_cell_guid": "761a8239-f743-498b-b594-36857afd0208",
                "language": "sql"
            },
            "outputs": [],
            "execution_count": null
        },
        {
            "cell_type": "code",
            "source": [
                "--Sample 5\r\n",
                "\r\n",
                "SELECT * \r\n",
                "\tFROM [PDKDB].[dbo].[WindowsClients]\r\n",
                "    WHERE ProductDescription LIKE '%Win 10%' OR ProductDescription LIKE '%Win 8.1%'\r\n",
                "    ORDER BY ProductDescription;"
            ],
            "metadata": {
                "azdata_cell_guid": "8a02eea0-b71a-4af7-8835-222380f06796",
                "language": "sql",
                "tags": []
            },
            "outputs": [],
            "execution_count": null
        },
        {
            "cell_type": "markdown",
            "source": [
                "**Count** the number of **product keys** for **each product** and sort them by count (from **largest to smallest**)\n",
                "\n",
                "**_Note 1:_** If you want to see **products** whose **quantity** **exceeds a specific number**, **replace the number 0 in line 6** with the number you want.\n",
                "\n",
                "**_Note 2:_** If you want to **reserve the order**, **remove \"DESC\" in line 7**.\n",
                "\n",
                "**Try sample 6 to see the result!**"
            ],
            "metadata": {
                "azdata_cell_guid": "510a9638-e6d0-4e28-b2ae-8c2129a45a2b",
                "language": ""
            },
            "attachments": {}
        },
        {
            "cell_type": "code",
            "source": [
                "--Sample 6\r\n",
                "\r\n",
                "SELECT ProductDescription as \"Product\", COUNT(ProductDescription) as 'Number of product keys'\r\n",
                "\tFROM [PDKDB].[dbo].[WindowsClients]\r\n",
                "\tGROUP BY ProductDescription\r\n",
                "\tHAVING COUNT(ProductDescription) > 0\r\n",
                "\tORDER BY COUNT(ProductDescription) DESC;"
            ],
            "metadata": {
                "azdata_cell_guid": "f73777af-98a5-487d-b9cd-9f0a7af32517",
                "language": "sql",
                "tags": []
            },
            "outputs": [],
            "execution_count": null
        },
        {
            "cell_type": "markdown",
            "source": [
                "**Choose** a **specific number of keys** for **each product.**\n",
                "\n",
                "**_Note_:** If you want to **adjust the number of keys** per product, **replace the number 5 in line 12**\n",
                "\n",
                "**Try sample 7 to see the result!**"
            ],
            "metadata": {
                "azdata_cell_guid": "779eaf9c-753c-41f9-9e55-6c1d7782ece5"
            },
            "attachments": {}
        },
        {
            "cell_type": "code",
            "source": [
                "--Sample 7\r\n",
                "\r\n",
                "SELECT [KeyID],[ProductKey],[KeyStatus],[ProductID],[ExtendedPID],[SKUID],[ProductDescription],[EditionID],[SubType],[LicenseType],[Channel]\r\n",
                "      FROM (\r\n",
                "          SELECT [KeyID],[ProductKey],[KeyStatus],[ProductID],[ExtendedPID],[SKUID],[ProductDescription],[EditionID],[SubType],[LicenseType],[Channel], ROW_NUMBER() OVER (\r\n",
                "              PARTITION BY ProductDescription\r\n",
                "              ORDER BY ProductDescription\r\n",
                "          ) AS rn\r\n",
                "          FROM [PDKDB].[dbo].[WindowsClients]\r\n",
                "          GROUP BY [KeyID],[ProductKey],[KeyStatus],[ProductID],[ExtendedPID],[SKUID],[ProductDescription],[EditionID],[SubType],[LicenseType],[Channel]\r\n",
                "      ) as t\r\n",
                "      WHERE rn <= 5\r\n",
                "      ORDER BY ProductDescription;"
            ],
            "metadata": {
                "azdata_cell_guid": "bd6ea36e-f242-407a-a30b-31880454d3f9",
                "language": "sql",
                "tags": []
            },
            "outputs": [],
            "execution_count": null
        },
        {
            "cell_type": "markdown",
            "source": [
                "**Add** the **new product key** to the database using **INSERT INTO**.\n",
                "\n",
                "Please note that **filling in all the blank fields (except ProductDescription and ProductKey are mandatory fields that cannot be empty) is unnecessary** **unless you set the application to read those data**. Plus, **categorize activation keys** into the right table **for easy management.**\n",
                "\n",
                "- \\[PDKDB\\].\\[dbo\\].\\[MSOffice\\] is for **Microsoft Office** products.\n",
                "- [PDKDB\\].\\[dbo\\].\\[WindowsServers\\] is for **Microsoft Windows Server** products. This does **NOT INCLUDE** other products **not classified as Microsoft Windows Server**, **but for classified for Server,** e.g., **Microsoft SQL Server or Microsoft System Center**.\n",
                "- \\[PDKDB\\].\\[dbo\\].\\[WindowsClients\\] is for **Microsoft Windows Clients** products. This does **NOT INCLUDE** any products **classified as Microsoft Windows Server or as for Server,** e.g., **Microsoft Windows Server, Microsoft SQL Server.**\n",
                "- _\\[PDKDB\\].\\[dbo\\].\\[OtherMS\\]_ is for any product **from Microsoft** not classified above.\n",
                "\n",
                "In **sample 8**, the code **imports** the Windows Server 2022 Datacenter RTM key into  \\[PDKDB\\].\\[dbo\\].\\[WindowsServers\\] database, with these references: \n",
                "\n",
                "- **ProductKey** is **\"MC3KY-QNF96-WCPG3-KJK4T-FVX8H\"**\n",
                "- **ProductDescription** is **\"Windows Server 2021 RTM ServerDatacenter;AzureStackHCIAddOn2021 Retail\"**\n",
                "- **Channel** is **\"Retail\"**\n",
                "\n",
                "**Try sample 8 to see the result!**"
            ],
            "metadata": {
                "azdata_cell_guid": "c9cbe666-80e7-4270-b0ef-8fa37310b967"
            },
            "attachments": {}
        },
        {
            "cell_type": "code",
            "source": [
                "--Sample 8\r\n",
                "\r\n",
                "INSERT INTO [PDKDB].[dbo].[WindowsServers] ([ProductKey], [ProductDescription], [Channel])\r\n",
                "    VALUES ('MC3KY-QNF96-WCPG3-KJK4T-FVX8H', 'Windows Server 2021 RTM ServerDatacenter;AzureStackHCIAddOn2021 Retail', 'Retail');\r\n",
                "\r\n",
                "SELECT *\r\n",
                "    FROM [PDKDB].[dbo].[WindowsServers]\r\n",
                "    WHERE ProductKey = 'MC3KY-QNF96-WCPG3-KJK4T-FVX8H';"
            ],
            "metadata": {
                "azdata_cell_guid": "fed9595d-fa0f-482b-a019-f33355a06981",
                "language": "sql",
                "tags": []
            },
            "outputs": [],
            "execution_count": null
        },
        {
            "cell_type": "markdown",
            "source": [
                "Delete a product key from the database using DELETE.\n",
                "\n",
                "In sample 9, the code deletes the ProductDescription in a row that contain the specific ProductKey. \n",
                "\n",
                "**Try sample 9 to see the result!**"
            ],
            "metadata": {
                "azdata_cell_guid": "feedafb5-aa0a-4dfa-836d-08286b4a7b11"
            },
            "attachments": {}
        },
        {
            "cell_type": "code",
            "source": [
                "--Sample 9\r\n",
                "\r\n",
                "SELECT * FROM [PDKDB].[dbo].[WindowsServers]\r\n",
                "    WHERE ProductKey = 'D23C9-FMG3M-T9DCW-F6GBR-MRKXV';\r\n",
                "\r\n",
                "DELETE FROM [PDKDB].[dbo].[WindowsServers]\r\n",
                "    WHERE ProductKey = 'D23C9-FMG3M-T9DCW-F6GBR-MRKXV';\r\n",
                "\r\n",
                "SELECT * FROM [PDKDB].[dbo].[WindowsServers]\r\n",
                "    WHERE ProductKey = 'D23C9-FMG3M-T9DCW-F6GBR-MRKXV';"
            ],
            "metadata": {
                "azdata_cell_guid": "3acdcde2-c6b0-4308-82b4-d9d59613cbdd",
                "language": "sql"
            },
            "outputs": [],
            "execution_count": null
        },
        {
            "cell_type": "markdown",
            "source": [
                "Update the product key data using UPDATE.\n",
                "\n",
                "In sample 10, the code update the ProductDescription in a row that contain the specific ProductKey. \n",
                "\n",
                "**Try sample 10 to see the result!**"
            ],
            "metadata": {
                "azdata_cell_guid": "f02c634c-4656-4f17-b90d-80b3bb546e56",
                "language": ""
            },
            "attachments": {}
        },
        {
            "cell_type": "code",
            "source": [
                "--Sample 10\r\n",
                "\r\n",
                "SELECT *\r\n",
                "    FROM [PDKDB].[dbo].[WindowsServers]\r\n",
                "    WHERE ProductKey = 'MC3KY-QNF96-WCPG3-KJK4T-FVX8H';\r\n",
                "\r\n",
                "UPDATE [PDKDB].[dbo].[WindowsServers]\r\n",
                "    SET ProductDescription = 'Windows Server 2021 RTM Datacenter'\r\n",
                "    WHERE ProductKey = 'MC3KY-QNF96-WCPG3-KJK4T-FVX8H';\r\n",
                "\r\n",
                "SELECT *\r\n",
                "    FROM [PDKDB].[dbo].[WindowsServers]\r\n",
                "    WHERE ProductKey = 'MC3KY-QNF96-WCPG3-KJK4T-FVX8H';"
            ],
            "metadata": {
                "azdata_cell_guid": "a79ca723-8eea-470f-a64b-7058225acf3e",
                "language": "sql",
                "tags": []
            },
            "outputs": [],
            "execution_count": null
        }
    ]
}